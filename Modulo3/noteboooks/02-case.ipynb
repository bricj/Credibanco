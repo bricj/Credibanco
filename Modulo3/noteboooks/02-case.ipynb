{
 "cells": [
  {
   "cell_type": "code",
   "execution_count": 2,
   "id": "2b018c6a",
   "metadata": {},
   "outputs": [],
   "source": [
    "import pandas as pd\n",
    "import numpy as np"
   ]
  },
  {
   "cell_type": "markdown",
   "id": "050968aa",
   "metadata": {},
   "source": [
    "Fuente de Datos:\n",
    "\n",
    "https://www.kaggle.com/datasets/mlg-ulb/creditcardfraud\n",
    "\n",
    "* Actividad: Descargar datos directamente con API de Kaggle o Consumir los datos desde un FASTAPI"
   ]
  },
  {
   "cell_type": "markdown",
   "id": "57b0bcf3",
   "metadata": {},
   "source": [
    "## 1. Importar datos y validacion rapida de datos importados"
   ]
  },
  {
   "cell_type": "code",
   "execution_count": null,
   "id": "f76c77bc",
   "metadata": {},
   "outputs": [],
   "source": [
    "# De ser necesario, crear carpeta \"data\" en el Modulo3\n",
    "# Incluir la ruta en maquina local o donde se carguen los datos\n",
    "\n",
    "data_path = \"C:/Users/Sebastian/Documents/Projects/Credibanco/Modulo3/data/creditcard.csv\"\n",
    "data = pd.read_csv(data_path)"
   ]
  },
  {
   "cell_type": "code",
   "execution_count": 6,
   "id": "977d2588",
   "metadata": {},
   "outputs": [
    {
     "name": "stdout",
     "output_type": "stream",
     "text": [
      "<class 'pandas.core.frame.DataFrame'>\n",
      "RangeIndex: 284807 entries, 0 to 284806\n",
      "Data columns (total 31 columns):\n",
      " #   Column  Non-Null Count   Dtype  \n",
      "---  ------  --------------   -----  \n",
      " 0   Time    284807 non-null  float64\n",
      " 1   V1      284807 non-null  float64\n",
      " 2   V2      284807 non-null  float64\n",
      " 3   V3      284807 non-null  float64\n",
      " 4   V4      284807 non-null  float64\n",
      " 5   V5      284807 non-null  float64\n",
      " 6   V6      284807 non-null  float64\n",
      " 7   V7      284807 non-null  float64\n",
      " 8   V8      284807 non-null  float64\n",
      " 9   V9      284807 non-null  float64\n",
      " 10  V10     284807 non-null  float64\n",
      " 11  V11     284807 non-null  float64\n",
      " 12  V12     284807 non-null  float64\n",
      " 13  V13     284807 non-null  float64\n",
      " 14  V14     284807 non-null  float64\n",
      " 15  V15     284807 non-null  float64\n",
      " 16  V16     284807 non-null  float64\n",
      " 17  V17     284807 non-null  float64\n",
      " 18  V18     284807 non-null  float64\n",
      " 19  V19     284807 non-null  float64\n",
      " 20  V20     284807 non-null  float64\n",
      " 21  V21     284807 non-null  float64\n",
      " 22  V22     284807 non-null  float64\n",
      " 23  V23     284807 non-null  float64\n",
      " 24  V24     284807 non-null  float64\n",
      " 25  V25     284807 non-null  float64\n",
      " 26  V26     284807 non-null  float64\n",
      " 27  V27     284807 non-null  float64\n",
      " 28  V28     284807 non-null  float64\n",
      " 29  Amount  284807 non-null  float64\n",
      " 30  Class   284807 non-null  int64  \n",
      "dtypes: float64(30), int64(1)\n",
      "memory usage: 67.4 MB\n",
      "None\n"
     ]
    }
   ],
   "source": [
    "# Display basic information\n",
    "print(data.info())"
   ]
  },
  {
   "cell_type": "code",
   "execution_count": 7,
   "id": "36b7de96",
   "metadata": {},
   "outputs": [
    {
     "name": "stdout",
     "output_type": "stream",
     "text": [
      "Time      0\n",
      "V1        0\n",
      "V2        0\n",
      "V3        0\n",
      "V4        0\n",
      "V5        0\n",
      "V6        0\n",
      "V7        0\n",
      "V8        0\n",
      "V9        0\n",
      "V10       0\n",
      "V11       0\n",
      "V12       0\n",
      "V13       0\n",
      "V14       0\n",
      "V15       0\n",
      "V16       0\n",
      "V17       0\n",
      "V18       0\n",
      "V19       0\n",
      "V20       0\n",
      "V21       0\n",
      "V22       0\n",
      "V23       0\n",
      "V24       0\n",
      "V25       0\n",
      "V26       0\n",
      "V27       0\n",
      "V28       0\n",
      "Amount    0\n",
      "Class     0\n",
      "dtype: int64\n"
     ]
    }
   ],
   "source": [
    "# Check for missing values\n",
    "print(data.isnull().sum())"
   ]
  },
  {
   "cell_type": "markdown",
   "id": "ecc2195a",
   "metadata": {},
   "source": [
    "## 2. Realizar EDA (Analisis exploratorio de datos) - Actividad"
   ]
  },
  {
   "cell_type": "markdown",
   "id": "ff086f6c",
   "metadata": {},
   "source": [
    "## 3. Realizar Transformacion de Variables y Feature Selection - Actividad"
   ]
  },
  {
   "cell_type": "markdown",
   "id": "2aa290d3",
   "metadata": {},
   "source": [
    "## 4. Entrenamiento y evaluacion del  modelo"
   ]
  },
  {
   "cell_type": "code",
   "execution_count": null,
   "id": "540c199f",
   "metadata": {},
   "outputs": [],
   "source": [
    "# Partición de datos en entrenamiento y visualizacion\n",
    "\n",
    "from sklearn.model_selection import train_test_split\n",
    "\n",
    "# Separate features and labels\n",
    "X = data.drop('Class', axis=1)\n",
    "y = data['Class']\n",
    "\n",
    "# Split the data\n",
    "X_train, X_test, y_train, y_test = train_test_split(X, y, test_size=0.2, random_state=42, stratify=y)"
   ]
  },
  {
   "cell_type": "code",
   "execution_count": null,
   "id": "7847c027",
   "metadata": {},
   "outputs": [],
   "source": [
    "# Balanceo de clases\n",
    "\n",
    "from imblearn.over_sampling import SMOTE\n",
    "\n",
    "# Apply SMOTE to the training data\n",
    "smote = SMOTE(random_state=42)\n",
    "X_train_resampled, y_train_resampled = smote.fit_resample(X_train, y_train)"
   ]
  },
  {
   "cell_type": "code",
   "execution_count": 11,
   "id": "79424c66",
   "metadata": {},
   "outputs": [
    {
     "name": "stdout",
     "output_type": "stream",
     "text": [
      "Modelo guardado en: save_models\\random_forest_model.joblib\n"
     ]
    }
   ],
   "source": [
    "import os\n",
    "from sklearn.ensemble import RandomForestClassifier\n",
    "import joblib\n",
    "\n",
    "# Crear carpeta save_models si no existe\n",
    "os.makedirs('save_models', exist_ok=True)\n",
    "\n",
    "# Inicializar el modelo\n",
    "model = RandomForestClassifier(n_estimators=20, random_state=42)\n",
    "\n",
    "# Entrenar el modelo\n",
    "model.fit(X_train_resampled, y_train_resampled)\n",
    "\n",
    "# Guardar el modelo en la carpeta save_models\n",
    "model_path = os.path.join('save_models', 'random_forest_model.joblib')\n",
    "joblib.dump(model, model_path)\n",
    "\n",
    "print(f\"Modelo guardado en: {model_path}\")\n"
   ]
  },
  {
   "cell_type": "code",
   "execution_count": 12,
   "id": "f4c8339d",
   "metadata": {},
   "outputs": [
    {
     "name": "stdout",
     "output_type": "stream",
     "text": [
      "[[56846    18]\n",
      " [   18    80]]\n",
      "              precision    recall  f1-score   support\n",
      "\n",
      "           0       1.00      1.00      1.00     56864\n",
      "           1       0.82      0.82      0.82        98\n",
      "\n",
      "    accuracy                           1.00     56962\n",
      "   macro avg       0.91      0.91      0.91     56962\n",
      "weighted avg       1.00      1.00      1.00     56962\n",
      "\n"
     ]
    }
   ],
   "source": [
    "import joblib\n",
    "from sklearn.metrics import classification_report, confusion_matrix\n",
    "\n",
    "# Cargar el modelo guardado\n",
    "model_path = os.path.join('save_models', 'random_forest_model.joblib')\n",
    "model = joblib.load(model_path)\n",
    "\n",
    "# Realizar predicciones\n",
    "y_pred = model.predict(X_test)\n",
    "\n",
    "# Mostrar métricas de evaluación\n",
    "print(confusion_matrix(y_test, y_pred))\n",
    "print(classification_report(y_test, y_pred))\n"
   ]
  },
  {
   "cell_type": "markdown",
   "id": "9d90789a",
   "metadata": {},
   "source": [
    "Actividad: Experimentar con multiples modelos e hiperparametros para obtener un mejor modelo\n",
    "\n",
    "Actividad 2: Establecer límites para que el agente los considere"
   ]
  },
  {
   "cell_type": "markdown",
   "id": "f003baae",
   "metadata": {},
   "source": [
    "## 5. Langchain"
   ]
  },
  {
   "cell_type": "code",
   "execution_count": 13,
   "id": "acc77755",
   "metadata": {},
   "outputs": [],
   "source": [
    "import os\n",
    "from getpass import getpass\n",
    "\n",
    "os.environ[\"OPENAI_API_KEY\"] = os.getenv(\"OPENAI_API_KEY\") or getpass(\n",
    "    \"Enter OpenAI API Key: \"\n",
    ")\n",
    "\n",
    "openai_model = \"gpt-4o-mini\"\n",
    "\n",
    "from langchain_openai import ChatOpenAI\n",
    "\n",
    "# For normal accurate responses\n",
    "llm = ChatOpenAI(temperature=0.0, model=openai_model)"
   ]
  },
  {
   "cell_type": "code",
   "execution_count": 14,
   "id": "fdd5732f",
   "metadata": {},
   "outputs": [
    {
     "name": "stderr",
     "output_type": "stream",
     "text": [
      "C:\\Users\\Sebastian\\AppData\\Local\\Temp\\ipykernel_23632\\448211833.py:11: LangChainDeprecationWarning: The class `LLMChain` was deprecated in LangChain 0.1.17 and will be removed in 1.0. Use :meth:`~RunnableSequence, e.g., `prompt | llm`` instead.\n",
      "  fraud_explainer = LLMChain(llm=llm, prompt=prompt_template)\n"
     ]
    }
   ],
   "source": [
    "from langchain.chains import LLMChain\n",
    "from langchain.prompts import PromptTemplate\n",
    "\n",
    "# Define the prompt template\n",
    "prompt_template = PromptTemplate(\n",
    "    input_variables=[\"transaction_details\"],\n",
    "    template=\"Given the following transaction details, explain why it might be considered fraudulent:\\n{transaction_details}\"\n",
    ")\n",
    "\n",
    "# Create the LLMChain\n",
    "fraud_explainer = LLMChain(llm=llm, prompt=prompt_template)"
   ]
  },
  {
   "cell_type": "code",
   "execution_count": 15,
   "id": "3d1bda4e",
   "metadata": {},
   "outputs": [
    {
     "name": "stderr",
     "output_type": "stream",
     "text": [
      "C:\\Users\\Sebastian\\AppData\\Local\\Temp\\ipykernel_23632\\1504283823.py:11: LangChainDeprecationWarning: The method `Chain.run` was deprecated in langchain 0.1.0 and will be removed in 1.0. Use :meth:`~invoke` instead.\n",
      "  explanation = fraud_explainer.run(transaction_details)\n"
     ]
    },
    {
     "name": "stdout",
     "output_type": "stream",
     "text": [
      "The transaction details provided raise several red flags that could indicate potential fraud:\n",
      "\n",
      "1. **High Transaction Amount**: A transaction of $5000 is relatively large, especially if there are no previous transactions associated with the account. This could suggest that the account is being used for a significant purchase or withdrawal that is inconsistent with the account holder's typical behavior.\n",
      "\n",
      "2. **Time of Transaction**: The transaction occurred at 2:30 AM, which is an unusual time for financial transactions. Most legitimate transactions occur during regular business hours or when the account holder is likely to be awake and active. Late-night transactions can be a sign of unauthorized access or fraudulent activity.\n",
      "\n",
      "3. **Location**: The transaction is marked as occurring in an \"unknown\" location. This lack of specific location information can be suspicious, as legitimate transactions typically have identifiable locations. If the transaction was made from a location that is not associated with the account holder, it could indicate that someone else is using the account without permission.\n",
      "\n",
      "4. **No Previous Transactions**: The absence of prior transactions raises concerns about the legitimacy of this transaction. If the account has no history, it may be a newly created account that is being used for fraudulent purposes, such as money laundering or other illicit activities.\n",
      "\n",
      "Overall, these factors combined create a scenario that is atypical for legitimate account activity, leading to the suspicion that the transaction could be fraudulent. Financial institutions often flag such transactions for further investigation to protect account holders from potential fraud.\n"
     ]
    }
   ],
   "source": [
    "# Example transaction details\n",
    "transaction_details = \"\"\"\n",
    "Transaction ID: 123456\n",
    "Amount: $5000\n",
    "Time: 02:30 AM\n",
    "Location: Unknown\n",
    "Previous Transactions: None\n",
    "\"\"\"\n",
    "\n",
    "# Generate explanation\n",
    "explanation = fraud_explainer.run(transaction_details)\n",
    "print(explanation)"
   ]
  },
  {
   "cell_type": "markdown",
   "id": "0742d7b7",
   "metadata": {},
   "source": [
    "Actividad: Añadir funcionalidad vista en el modulo de conceptos de Langchain"
   ]
  }
 ],
 "metadata": {
  "kernelspec": {
   "display_name": ".venv",
   "language": "python",
   "name": "python3"
  },
  "language_info": {
   "codemirror_mode": {
    "name": "ipython",
    "version": 3
   },
   "file_extension": ".py",
   "mimetype": "text/x-python",
   "name": "python",
   "nbconvert_exporter": "python",
   "pygments_lexer": "ipython3",
   "version": "3.12.7"
  }
 },
 "nbformat": 4,
 "nbformat_minor": 5
}
